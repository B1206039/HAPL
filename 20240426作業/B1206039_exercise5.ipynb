{
  "nbformat": 4,
  "nbformat_minor": 0,
  "metadata": {
    "colab": {
      "provenance": []
    },
    "kernelspec": {
      "name": "python3",
      "display_name": "Python 3"
    },
    "language_info": {
      "name": "python"
    }
  },
  "cells": [
    {
      "cell_type": "code",
      "execution_count": null,
      "metadata": {
        "colab": {
          "base_uri": "https://localhost:8080/"
        },
        "id": "_w10z64wy7ja",
        "outputId": "0a525f1f-eec7-421d-c997-c697b23ae3b0"
      },
      "outputs": [
        {
          "output_type": "stream",
          "name": "stdout",
          "text": [
            "1x1=1    2x1=2    3x1=3    4x1=4    5x1=5    6x1=6    7x1=7    8x1=8    9x1=9    \n",
            "1x2=2    2x2=4    3x2=6    4x2=8    5x2=10   6x2=12   7x2=14   8x2=16   9x2=18   \n",
            "1x3=3    2x3=6    3x3=9    4x3=12   5x3=15   6x3=18   7x3=21   8x3=24   9x3=27   \n",
            "1x4=4    2x4=8    3x4=12   4x4=16   5x4=20   6x4=24   7x4=28   8x4=32   9x4=36   \n",
            "1x5=5    2x5=10   3x5=15   4x5=20   5x5=25   6x5=30   7x5=35   8x5=40   9x5=45   \n",
            "1x6=6    2x6=12   3x6=18   4x6=24   5x6=30   6x6=36   7x6=42   8x6=48   9x6=54   \n",
            "1x7=7    2x7=14   3x7=21   4x7=28   5x7=35   6x7=42   7x7=49   8x7=56   9x7=63   \n",
            "1x8=8    2x8=16   3x8=24   4x8=32   5x8=40   6x8=48   7x8=56   8x8=64   9x8=72   \n",
            "1x9=9    2x9=18   3x9=27   4x9=36   5x9=45   6x9=54   7x9=63   8x9=72   9x9=81   \n"
          ]
        }
      ],
      "source": [
        "i=0\n",
        "while i<=8:\n",
        " i+=1\n",
        " n=0\n",
        " while n<=8:\n",
        "  n+=1\n",
        "  b=i*n\n",
        "  print(f\"{n}x{i}={b:<2d}\", end=\"   \")\n",
        "  if n==9:\n",
        "   print()"
      ]
    },
    {
      "cell_type": "code",
      "source": [
        "import random\n",
        "k = random.sample(range(1,10),4)\n",
        "print(\"答案:\",k)\n",
        "a=b=n=g=0\n",
        "l = list(input('輸入四個數字(不會重複):'))\n",
        "if len(l) !=4:\n",
        "  (print('輸入數字過多，請輸入四個數字(不會重複)'))\n",
        "a=0\n",
        "g=0\n",
        "while a!=4:\n",
        "  g +=1\n",
        "  a=b=n=0\n",
        "  l = list(input('輸入四個數字(不會重複):'))\n",
        "\n",
        "  for i in l:\n",
        "    if int(l[n])==k[n]:\n",
        "      a+=1\n",
        "    else:\n",
        "      if int(i) in l:\n",
        "        b+=1\n",
        "    n+=1\n",
        "  output =','.join(l).replace(',','')\n",
        "  print(f'{output}:{a}A{b}B')\n",
        "print(f'猜到了!總共猜了{g}次')"
      ],
      "metadata": {
        "colab": {
          "base_uri": "https://localhost:8080/"
        },
        "id": "bm_tVn1F8tTc",
        "outputId": "731a2881-f5ae-4b73-f783-57b776e67a04"
      },
      "execution_count": 3,
      "outputs": [
        {
          "output_type": "stream",
          "name": "stdout",
          "text": [
            "答案: [2, 1, 8, 3]\n",
            "輸入四個數字(不會重複):12345\n",
            "輸入數字過多，請輸入四個數字(不會重複)\n",
            "輸入四個數字(不會重複):1234\n",
            "1234:0A0B\n",
            "輸入四個數字(不會重複):2134\n",
            "2134:2A0B\n",
            "輸入四個數字(不會重複):2188\n",
            "2188:3A0B\n",
            "輸入四個數字(不會重複):2138\n",
            "2138:2A0B\n",
            "輸入四個數字(不會重複):2183\n",
            "2183:4A0B\n",
            "猜到了!總共猜了5次\n"
          ]
        }
      ]
    }
  ]
}