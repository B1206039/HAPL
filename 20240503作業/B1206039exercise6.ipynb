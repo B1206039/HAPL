{
  "nbformat": 4,
  "nbformat_minor": 0,
  "metadata": {
    "colab": {
      "provenance": []
    },
    "kernelspec": {
      "name": "python3",
      "display_name": "Python 3"
    },
    "language_info": {
      "name": "python"
    }
  },
  "cells": [
    {
      "cell_type": "code",
      "source": [
        "def TREE(A):\n",
        "    B = 1\n",
        "    if A < 7:\n",
        "        print(\"請輸入至少7層以上的高度\")\n",
        "        K = int(input('請重新輸入聖誕樹的層數：'))\n",
        "        return TREE(K)\n",
        "\n",
        "    for i in range(A):\n",
        "        print((' ' * (A - i)) + ('*' * B))\n",
        "        B += 2\n",
        "\n",
        "    for k in range(5):\n",
        "        print((' ' * (A - 1)) + '***')\n",
        "\n",
        "    print(' ' * A)\n",
        "\n",
        "A = int(input('請輸入聖誕樹的層數：'))\n",
        "TREE(A)\n"
      ],
      "metadata": {
        "id": "bJCZfXvaAOOm",
        "colab": {
          "base_uri": "https://localhost:8080/"
        },
        "outputId": "e5cc46de-c129-4793-b0a3-fca1729e3aba"
      },
      "execution_count": 43,
      "outputs": [
        {
          "output_type": "stream",
          "name": "stdout",
          "text": [
            "請輸入聖誕樹的層數：6\n",
            "請輸入至少7層以上的高度\n",
            "請重新輸入聖誕樹的層數：7\n",
            "       *\n",
            "      ***\n",
            "     *****\n",
            "    *******\n",
            "   *********\n",
            "  ***********\n",
            " *************\n",
            "      ***\n",
            "      ***\n",
            "      ***\n",
            "      ***\n",
            "      ***\n",
            "       \n"
          ]
        }
      ]
    },
    {
      "cell_type": "code",
      "source": [
        "\n",
        "def bmi_status(身高, 體重):\n",
        "    身高2 = 身高 / 100\n",
        "    bmi = 體重 / (身高2 ** 2)\n",
        "    if bmi < 18.5:\n",
        "        體位 = '過輕'\n",
        "    elif 18.5 <= bmi < 24:\n",
        "        體位 = '適中'\n",
        "    elif 24 <= bmi < 27:\n",
        "        體位 = '過重'\n",
        "    else:\n",
        "        體位 = '肥胖'\n",
        "\n",
        "    return bmi, 體位\n",
        "\n",
        "def K(G):\n",
        "    while True:\n",
        "        try:\n",
        "            user_input = float(input(G))\n",
        "            return user_input\n",
        "        except ValueError:\n",
        "            print(\"輸入錯誤請輸入一組數字\")\n",
        "\n",
        "身高 = K(\"請輸入你的身高(cm)：\")\n",
        "體重 = K(\"請輸入你的體重(kg)：\")\n",
        "bmi, 體位 = bmi_status(身高, 體重)\n",
        "print(f\"BMI值：{bmi:}\")\n",
        "print(f\"身體狀況：{體位}\")\n"
      ],
      "metadata": {
        "colab": {
          "base_uri": "https://localhost:8080/"
        },
        "id": "nkcPT-cSFq6p",
        "outputId": "706c95d3-f11b-44eb-a72b-f263ce3626c3"
      },
      "execution_count": 51,
      "outputs": [
        {
          "output_type": "stream",
          "name": "stdout",
          "text": [
            "請輸入你的身高(cm)：175\n",
            "請輸入你的體重(kg)：p\n",
            "輸入錯誤請輸入一組數字\n",
            "請輸入你的體重(kg)：66\n",
            "BMI值：21.551020408163264\n",
            "身體狀況：適中\n"
          ]
        }
      ]
    }
  ]
}