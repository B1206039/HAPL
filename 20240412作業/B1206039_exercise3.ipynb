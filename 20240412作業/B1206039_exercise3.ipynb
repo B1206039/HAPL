{
  "nbformat": 4,
  "nbformat_minor": 0,
  "metadata": {
    "colab": {
      "provenance": []
    },
    "kernelspec": {
      "name": "python3",
      "display_name": "Python 3"
    },
    "language_info": {
      "name": "python"
    }
  },
  "cells": [
    {
      "cell_type": "code",
      "execution_count": 15,
      "metadata": {
        "colab": {
          "base_uri": "https://localhost:8080/"
        },
        "id": "xTABj7yryngX",
        "outputId": "fe9d2440-d7ba-4c64-d664-ca925b153a83"
      },
      "outputs": [
        {
          "output_type": "stream",
          "name": "stdout",
          "text": [
            "身高(cm):\n",
            "175\n",
            "體重(KG):\n",
            "60\n",
            "你的BMI: 19.591836734693878\n",
            "體位:適中\n"
          ]
        }
      ],
      "source": [
        "a =int(input('''身高(cm):\n",
        "'''))\n",
        "b =int(input('''體重(KG):\n",
        "'''))\n",
        "b/=((a/100)**2)\n",
        "print('你的BMI:',b)\n",
        "if b < 18.5:\n",
        "    print('體位:過輕')\n",
        "elif 18.5 <= b < 24:\n",
        "    print('體位:適中')\n",
        "elif 24<= b < 27:\n",
        "    print('體位:過重')\n",
        "elif b>=27:\n",
        "    print('體位:肥胖')"
      ]
    },
    {
      "cell_type": "code",
      "source": [
        "a =int(input('''輸入第一個數字(不能為0):\n",
        "'''))\n",
        "b =(input('''運算符號(+、-、*、/):\n",
        "'''))\n",
        "c =int(input('''輸入第二個數字(不能為0):\n",
        "'''))\n",
        "if b=='+':\n",
        "  d=a+c\n",
        "  print(d)\n",
        "elif b=='-':\n",
        "  e=a-c\n",
        "  print(e)\n",
        "elif b=='*':\n",
        "  f=a*c\n",
        "  print(f)\n",
        "elif b=='/':\n",
        "  g=a/c\n",
        "  print(g)"
      ],
      "metadata": {
        "colab": {
          "base_uri": "https://localhost:8080/"
        },
        "id": "0KwhNEN_3UOB",
        "outputId": "3d84a310-06fe-4fa8-c81e-010bd1f5ac74"
      },
      "execution_count": 31,
      "outputs": [
        {
          "output_type": "stream",
          "name": "stdout",
          "text": [
            "輸入第一個數字(不能為0):\n",
            "6\n",
            "運算符號(+、-、*、/):\n",
            "/\n",
            "輸入第二個數字(不能為0):\n",
            "9\n",
            "0.6666666666666666\n"
          ]
        }
      ]
    }
  ]
}