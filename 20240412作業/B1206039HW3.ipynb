{
  "nbformat": 4,
  "nbformat_minor": 0,
  "metadata": {
    "colab": {
      "provenance": []
    },
    "kernelspec": {
      "name": "python3",
      "display_name": "Python 3"
    },
    "language_info": {
      "name": "python"
    }
  },
  "cells": [
    {
      "cell_type": "code",
      "execution_count": 15,
      "metadata": {
        "colab": {
          "base_uri": "https://localhost:8080/"
        },
        "id": "UrIVmmKy-xHf",
        "outputId": "7e110908-482f-4b1f-96fb-ae568006361c"
      },
      "outputs": [
        {
          "output_type": "stream",
          "name": "stdout",
          "text": [
            "輸入西元年份:\n",
            "1772\n",
            "閏年\n"
          ]
        }
      ],
      "source": [
        "a =int(input('''輸入西元年份:\n",
        "'''))\n",
        "if a<=1582:\n",
        "  if a%4==0:\n",
        "    print(\"閏年\")\n",
        "  else:\n",
        "    print(\"平年\")\n",
        "elif a>1582:\n",
        "  if a%400==0:\n",
        "    print(\"閏年\")\n",
        "  elif a%400!=0 and a%100==0:\n",
        "    print(\"平年\")\n",
        "  elif a%400!=0 and a%100!=0 and a%4==0:\n",
        "    print(\"閏年\")"
      ]
    }
  ]
}