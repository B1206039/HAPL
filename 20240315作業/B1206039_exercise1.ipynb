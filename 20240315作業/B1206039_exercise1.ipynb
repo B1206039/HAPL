{
  "nbformat": 4,
  "nbformat_minor": 0,
  "metadata": {
    "colab": {
      "provenance": []
    },
    "kernelspec": {
      "name": "python3",
      "display_name": "Python 3"
    },
    "language_info": {
      "name": "python"
    }
  },
  "cells": [
    {
      "cell_type": "code",
      "execution_count": 7,
      "metadata": {
        "colab": {
          "base_uri": "https://localhost:8080/"
        },
        "id": "TJZOBQpsxwVV",
        "outputId": "bb69489f-8f45-4caa-f07f-2446b3834017"
      },
      "outputs": [
        {
          "output_type": "stream",
          "name": "stdout",
          "text": [
            "長庚大學\n",
            "職治系\n",
            "林彥良\n"
          ]
        }
      ],
      "source": [
        "a=('''長庚大學\n",
        "職治系\n",
        "林彥良''')\n",
        "print(a)\n"
      ]
    },
    {
      "cell_type": "code",
      "source": [
        "a=3;b=5\n",
        "print(a**b)"
      ],
      "metadata": {
        "colab": {
          "base_uri": "https://localhost:8080/"
        },
        "id": "D-K6qGGA0qSQ",
        "outputId": "16856abc-ecf9-4749-f337-7423eaf4027b"
      },
      "execution_count": 8,
      "outputs": [
        {
          "output_type": "stream",
          "name": "stdout",
          "text": [
            "243\n"
          ]
        }
      ]
    },
    {
      "cell_type": "code",
      "source": [
        "a=3;b=5\n",
        "a/=b\n",
        "print(a)\n"
      ],
      "metadata": {
        "colab": {
          "base_uri": "https://localhost:8080/"
        },
        "id": "EQvnVq0y08Yo",
        "outputId": "e0908389-0143-46cb-bda9-71422c857fc9"
      },
      "execution_count": 12,
      "outputs": [
        {
          "output_type": "stream",
          "name": "stdout",
          "text": [
            "0.6\n"
          ]
        }
      ]
    }
  ]
}