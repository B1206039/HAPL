{
  "nbformat": 4,
  "nbformat_minor": 0,
  "metadata": {
    "colab": {
      "provenance": []
    },
    "kernelspec": {
      "name": "python3",
      "display_name": "Python 3"
    },
    "language_info": {
      "name": "python"
    }
  },
  "cells": [
    {
      "cell_type": "code",
      "execution_count": null,
      "metadata": {
        "colab": {
          "base_uri": "https://localhost:8080/"
        },
        "id": "FJaOQJ-pkBjh",
        "outputId": "47df8b66-ceb7-4148-f852-b05afc16f948"
      },
      "outputs": [
        {
          "output_type": "stream",
          "name": "stdout",
          "text": [
            "輸出:I'm a student\n"
          ]
        }
      ],
      "source": [
        "print(\"輸出:I'm a student\")"
      ]
    },
    {
      "cell_type": "code",
      "source": [
        "a = int(input('''輸入座標A(x1,y1):\n",
        "x1='''))\n",
        "b = int(input('''輸入座標A(x1,y1):\n",
        "y1='''))\n",
        "c = int(input('''輸入座標B(x2,y2):\n",
        "x2='''))\n",
        "d = int(input('''輸入座標B(x2,y2):\n",
        "y2='''))\n",
        "z=((a-c)**2+(b-d)**2)**0.5\n",
        "print(\"兩座標之間的距離:\",z)"
      ],
      "metadata": {
        "colab": {
          "base_uri": "https://localhost:8080/"
        },
        "id": "Cmnvjrh0l78-",
        "outputId": "f3e8bbd2-eaa3-4aec-f414-ba696c6c58d0"
      },
      "execution_count": null,
      "outputs": [
        {
          "output_type": "stream",
          "name": "stdout",
          "text": [
            "輸入座標A(x1,y1):\n",
            "x1=8\n",
            "輸入座標A(x1,y1):\n",
            "y1=7\n",
            "輸入座標B(x2,y2):\n",
            "x2=4\n",
            "輸入座標B(x2,y2):\n",
            "y2=5\n",
            "兩座標之間的距離: 4.47213595499958\n"
          ]
        }
      ]
    },
    {
      "cell_type": "code",
      "source": [
        "a =int(input('''身高(cm):\n",
        "'''))\n",
        "b =int(input('''體重(KG):\n",
        "'''))\n",
        "b/=((a/100)**2)\n",
        "print('你的BMI:',b)"
      ],
      "metadata": {
        "colab": {
          "base_uri": "https://localhost:8080/"
        },
        "id": "CyWrNlbQsJAF",
        "outputId": "1c278dd0-b9d9-4b13-8c58-16ac403bd374"
      },
      "execution_count": null,
      "outputs": [
        {
          "output_type": "stream",
          "name": "stdout",
          "text": [
            "身高(cm):\n",
            "175\n",
            "體重(KG):\n",
            "70\n",
            "你的BMI: 22.857142857142858\n"
          ]
        }
      ]
    }
  ]
}