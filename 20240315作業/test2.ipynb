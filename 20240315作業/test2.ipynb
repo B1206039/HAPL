{
  "nbformat": 4,
  "nbformat_minor": 0,
  "metadata": {
    "colab": {
      "provenance": []
    },
    "kernelspec": {
      "name": "python3",
      "display_name": "Python 3"
    },
    "language_info": {
      "name": "python"
    }
  },
  "cells": [
    {
      "cell_type": "code",
      "source": [
        "x=2;y=1\n",
        "a=(2*x)+y\n",
        "b=100-y\n",
        "z=a*b\n",
        "print(\"Ans is=\",z)"
      ],
      "metadata": {
        "colab": {
          "base_uri": "https://localhost:8080/"
        },
        "id": "HMJlPNf70Tiv",
        "outputId": "6d28cea5-f357-4147-9a7b-e0626c171e83"
      },
      "execution_count": null,
      "outputs": [
        {
          "output_type": "stream",
          "name": "stdout",
          "text": [
            "Ans is= 495\n"
          ]
        }
      ]
    },
    {
      "cell_type": "code",
      "source": [
        "y=4\n",
        "a=100\n",
        "b=(2*y)+1\n",
        "z=a/b\n",
        "print(\"Ans is=\",z)"
      ],
      "metadata": {
        "colab": {
          "base_uri": "https://localhost:8080/"
        },
        "id": "RZAhRK0T08wE",
        "outputId": "d0b18f7c-4fbe-413f-c96a-084821a665f2"
      },
      "execution_count": null,
      "outputs": [
        {
          "output_type": "stream",
          "name": "stdout",
          "text": [
            "Ans is= 11.11111111111111\n"
          ]
        }
      ]
    }
  ]
}